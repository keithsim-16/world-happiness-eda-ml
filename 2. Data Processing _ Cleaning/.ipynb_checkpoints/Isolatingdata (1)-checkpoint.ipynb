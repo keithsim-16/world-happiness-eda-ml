{
 "cells": [
  {
   "cell_type": "markdown",
   "id": "b75768ba",
   "metadata": {},
   "source": [
    "Isolating attempt"
   ]
  },
  {
   "cell_type": "code",
   "execution_count": 1,
   "id": "867769a8",
   "metadata": {
    "scrolled": false
   },
   "outputs": [],
   "source": [
    "# Basic Libraries\n",
    "import numpy as np\n",
    "import pandas as pd\n",
    "import seaborn as sb\n",
    "import matplotlib.pyplot as plt # we only need pyplot\n",
    "sb.set() # set the default Seaborn style for graphics"
   ]
  },
  {
   "cell_type": "code",
   "execution_count": 2,
   "id": "6cd2ff89",
   "metadata": {
    "scrolled": true
   },
   "outputs": [
    {
     "data": {
      "text/html": [
       "<div>\n",
       "<style scoped>\n",
       "    .dataframe tbody tr th:only-of-type {\n",
       "        vertical-align: middle;\n",
       "    }\n",
       "\n",
       "    .dataframe tbody tr th {\n",
       "        vertical-align: top;\n",
       "    }\n",
       "\n",
       "    .dataframe thead th {\n",
       "        text-align: right;\n",
       "    }\n",
       "</style>\n",
       "<table border=\"1\" class=\"dataframe\">\n",
       "  <thead>\n",
       "    <tr style=\"text-align: right;\">\n",
       "      <th></th>\n",
       "      <th>Region/Country/Area</th>\n",
       "      <th>NaN</th>\n",
       "      <th>Year</th>\n",
       "      <th>Series</th>\n",
       "      <th>Value</th>\n",
       "      <th>Footnotes</th>\n",
       "      <th>Source</th>\n",
       "    </tr>\n",
       "  </thead>\n",
       "  <tbody>\n",
       "    <tr>\n",
       "      <th>1</th>\n",
       "      <td>1</td>\n",
       "      <td>Total, all countries or areas</td>\n",
       "      <td>2000</td>\n",
       "      <td>Percentage of individuals using the internet</td>\n",
       "      <td>6.5</td>\n",
       "      <td>NaN</td>\n",
       "      <td>International Telecommunication Union (ITU), G...</td>\n",
       "    </tr>\n",
       "    <tr>\n",
       "      <th>2</th>\n",
       "      <td>1</td>\n",
       "      <td>Total, all countries or areas</td>\n",
       "      <td>2005</td>\n",
       "      <td>Percentage of individuals using the internet</td>\n",
       "      <td>16.8</td>\n",
       "      <td>NaN</td>\n",
       "      <td>International Telecommunication Union (ITU), G...</td>\n",
       "    </tr>\n",
       "    <tr>\n",
       "      <th>3</th>\n",
       "      <td>1</td>\n",
       "      <td>Total, all countries or areas</td>\n",
       "      <td>2010</td>\n",
       "      <td>Percentage of individuals using the internet</td>\n",
       "      <td>29.3</td>\n",
       "      <td>NaN</td>\n",
       "      <td>International Telecommunication Union (ITU), G...</td>\n",
       "    </tr>\n",
       "    <tr>\n",
       "      <th>4</th>\n",
       "      <td>1</td>\n",
       "      <td>Total, all countries or areas</td>\n",
       "      <td>2015</td>\n",
       "      <td>Percentage of individuals using the internet</td>\n",
       "      <td>41.1</td>\n",
       "      <td>NaN</td>\n",
       "      <td>International Telecommunication Union (ITU), G...</td>\n",
       "    </tr>\n",
       "    <tr>\n",
       "      <th>5</th>\n",
       "      <td>1</td>\n",
       "      <td>Total, all countries or areas</td>\n",
       "      <td>2017</td>\n",
       "      <td>Percentage of individuals using the internet</td>\n",
       "      <td>46.3</td>\n",
       "      <td>NaN</td>\n",
       "      <td>International Telecommunication Union (ITU), G...</td>\n",
       "    </tr>\n",
       "  </tbody>\n",
       "</table>\n",
       "</div>"
      ],
      "text/plain": [
       "0 Region/Country/Area                            NaN  Year  \\\n",
       "1                   1  Total, all countries or areas  2000   \n",
       "2                   1  Total, all countries or areas  2005   \n",
       "3                   1  Total, all countries or areas  2010   \n",
       "4                   1  Total, all countries or areas  2015   \n",
       "5                   1  Total, all countries or areas  2017   \n",
       "\n",
       "0                                        Series Value Footnotes  \\\n",
       "1  Percentage of individuals using the internet   6.5       NaN   \n",
       "2  Percentage of individuals using the internet  16.8       NaN   \n",
       "3  Percentage of individuals using the internet  29.3       NaN   \n",
       "4  Percentage of individuals using the internet  41.1       NaN   \n",
       "5  Percentage of individuals using the internet  46.3       NaN   \n",
       "\n",
       "0                                             Source  \n",
       "1  International Telecommunication Union (ITU), G...  \n",
       "2  International Telecommunication Union (ITU), G...  \n",
       "3  International Telecommunication Union (ITU), G...  \n",
       "4  International Telecommunication Union (ITU), G...  \n",
       "5  International Telecommunication Union (ITU), G...  "
      ]
     },
     "execution_count": 2,
     "metadata": {},
     "output_type": "execute_result"
    }
   ],
   "source": [
    "Internet_Usage = pd.read_csv('Internet_Usage.csv', encoding = \"ISO-8859-1\")\n",
    "new_header = Internet_Usage.iloc[0] #grab the first row for the header\n",
    "Internet_Usage = Internet_Usage[1:] #take the data less the header row\n",
    "Internet_Usage.columns = new_header #set the header row as the df header\n",
    "Internet_Usage.head()"
   ]
  },
  {
   "cell_type": "code",
   "execution_count": 3,
   "id": "6d8c61da",
   "metadata": {
    "scrolled": true
   },
   "outputs": [
    {
     "name": "stdout",
     "output_type": "stream",
     "text": [
      "<class 'pandas.core.frame.DataFrame'>\n",
      "RangeIndex: 1357 entries, 1 to 1357\n",
      "Data columns (total 7 columns):\n",
      " #   Column               Non-Null Count  Dtype \n",
      "---  ------               --------------  ----- \n",
      " 0   Region/Country/Area  1357 non-null   object\n",
      " 1   nan                  1357 non-null   object\n",
      " 2   Year                 1357 non-null   object\n",
      " 3   Series               1357 non-null   object\n",
      " 4   Value                1357 non-null   object\n",
      " 5   Footnotes            599 non-null    object\n",
      " 6   Source               1357 non-null   object\n",
      "dtypes: object(7)\n",
      "memory usage: 74.3+ KB\n"
     ]
    }
   ],
   "source": [
    "Internet_Usage.info()"
   ]
  },
  {
   "cell_type": "code",
   "execution_count": 4,
   "id": "39db8d9f",
   "metadata": {},
   "outputs": [],
   "source": [
    "# Remove duplicate column name that caused columns names to shift left\n",
    "cols = list(Internet_Usage.columns)\n",
    "cols[1] = 'country'\n",
    "Internet_Usage.columns = cols"
   ]
  },
  {
   "cell_type": "code",
   "execution_count": 5,
   "id": "48df18bd",
   "metadata": {},
   "outputs": [],
   "source": [
    "continents = ['Total, all countries or areas', 'Northern Africa', 'Sub-Saharan Africa', 'Eastern Africa', \n",
    "              'Middle Africa', 'Southern Africa', 'Western Africa', 'Northern America', \n",
    "              'Latin America & the Caribbean', 'Caribbean', 'Latin America', 'Asia', 'Central Asia', \n",
    "              'Eastern Asia', 'South-central Asia', 'South-eastern Asia', 'Southern Asia', 'Western Asia', \n",
    "              'Europe', 'Oceania', 'Australia and New Zealand']\n",
    "for i in continents:\n",
    "    Internet_Usage= Internet_Usage[Internet_Usage['country'].str.contains(i)==False]"
   ]
  },
  {
   "cell_type": "code",
   "execution_count": 6,
   "id": "f789aa0b",
   "metadata": {},
   "outputs": [],
   "source": [
    "Internet_Usage= Internet_Usage[Internet_Usage['Year'].str.contains('2015')!=False]"
   ]
  },
  {
   "cell_type": "code",
   "execution_count": 7,
   "id": "e69114e6",
   "metadata": {
    "scrolled": false
   },
   "outputs": [
    {
     "data": {
      "text/html": [
       "<div>\n",
       "<style scoped>\n",
       "    .dataframe tbody tr th:only-of-type {\n",
       "        vertical-align: middle;\n",
       "    }\n",
       "\n",
       "    .dataframe tbody tr th {\n",
       "        vertical-align: top;\n",
       "    }\n",
       "\n",
       "    .dataframe thead th {\n",
       "        text-align: right;\n",
       "    }\n",
       "</style>\n",
       "<table border=\"1\" class=\"dataframe\">\n",
       "  <thead>\n",
       "    <tr style=\"text-align: right;\">\n",
       "      <th></th>\n",
       "      <th>country</th>\n",
       "      <th>Year</th>\n",
       "      <th>Individuals using the Internet (per 100 inhabitants)</th>\n",
       "    </tr>\n",
       "  </thead>\n",
       "  <tbody>\n",
       "    <tr>\n",
       "      <th>150</th>\n",
       "      <td>Afghanistan</td>\n",
       "      <td>2015</td>\n",
       "      <td>8.3</td>\n",
       "    </tr>\n",
       "    <tr>\n",
       "      <th>155</th>\n",
       "      <td>Albania</td>\n",
       "      <td>2015</td>\n",
       "      <td>63.3</td>\n",
       "    </tr>\n",
       "    <tr>\n",
       "      <th>161</th>\n",
       "      <td>Algeria</td>\n",
       "      <td>2015</td>\n",
       "      <td>38.2</td>\n",
       "    </tr>\n",
       "    <tr>\n",
       "      <th>167</th>\n",
       "      <td>Andorra</td>\n",
       "      <td>2015</td>\n",
       "      <td>96.9</td>\n",
       "    </tr>\n",
       "    <tr>\n",
       "      <th>172</th>\n",
       "      <td>Angola</td>\n",
       "      <td>2015</td>\n",
       "      <td>12.4</td>\n",
       "    </tr>\n",
       "    <tr>\n",
       "      <th>...</th>\n",
       "      <td>...</td>\n",
       "      <td>...</td>\n",
       "      <td>...</td>\n",
       "    </tr>\n",
       "    <tr>\n",
       "      <th>1330</th>\n",
       "      <td>Venezuela (Boliv. Rep. of)</td>\n",
       "      <td>2015</td>\n",
       "      <td>64.0</td>\n",
       "    </tr>\n",
       "    <tr>\n",
       "      <th>1335</th>\n",
       "      <td>Viet Nam</td>\n",
       "      <td>2015</td>\n",
       "      <td>45.0</td>\n",
       "    </tr>\n",
       "    <tr>\n",
       "      <th>1345</th>\n",
       "      <td>Yemen</td>\n",
       "      <td>2015</td>\n",
       "      <td>24.1</td>\n",
       "    </tr>\n",
       "    <tr>\n",
       "      <th>1350</th>\n",
       "      <td>Zambia</td>\n",
       "      <td>2015</td>\n",
       "      <td>21.0</td>\n",
       "    </tr>\n",
       "    <tr>\n",
       "      <th>1356</th>\n",
       "      <td>Zimbabwe</td>\n",
       "      <td>2015</td>\n",
       "      <td>22.7</td>\n",
       "    </tr>\n",
       "  </tbody>\n",
       "</table>\n",
       "<p>206 rows × 3 columns</p>\n",
       "</div>"
      ],
      "text/plain": [
       "                         country  Year  \\\n",
       "150                  Afghanistan  2015   \n",
       "155                      Albania  2015   \n",
       "161                      Algeria  2015   \n",
       "167                      Andorra  2015   \n",
       "172                       Angola  2015   \n",
       "...                          ...   ...   \n",
       "1330  Venezuela (Boliv. Rep. of)  2015   \n",
       "1335                    Viet Nam  2015   \n",
       "1345                       Yemen  2015   \n",
       "1350                      Zambia  2015   \n",
       "1356                    Zimbabwe  2015   \n",
       "\n",
       "     Individuals using the Internet (per 100 inhabitants)  \n",
       "150                                                 8.3    \n",
       "155                                                63.3    \n",
       "161                                                38.2    \n",
       "167                                                96.9    \n",
       "172                                                12.4    \n",
       "...                                                 ...    \n",
       "1330                                               64.0    \n",
       "1335                                               45.0    \n",
       "1345                                               24.1    \n",
       "1350                                               21.0    \n",
       "1356                                               22.7    \n",
       "\n",
       "[206 rows x 3 columns]"
      ]
     },
     "execution_count": 7,
     "metadata": {},
     "output_type": "execute_result"
    }
   ],
   "source": [
    "Internet_Usage = Internet_Usage.rename(columns={'Value': 'Individuals using the Internet (per 100 inhabitants)'})\n",
    "Internet_Usage = pd.DataFrame(Internet_Usage[['country', 'Year', 'Individuals using the Internet (per 100 inhabitants)']])\n",
    "Internet_Usage"
   ]
  },
  {
   "cell_type": "code",
   "execution_count": null,
   "id": "b95d1dbb",
   "metadata": {},
   "outputs": [],
   "source": []
  }
 ],
 "metadata": {
  "kernelspec": {
   "display_name": "Python 3 (ipykernel)",
   "language": "python",
   "name": "python3"
  },
  "language_info": {
   "codemirror_mode": {
    "name": "ipython",
    "version": 3
   },
   "file_extension": ".py",
   "mimetype": "text/x-python",
   "name": "python",
   "nbconvert_exporter": "python",
   "pygments_lexer": "ipython3",
   "version": "3.9.7"
  }
 },
 "nbformat": 4,
 "nbformat_minor": 5
}
